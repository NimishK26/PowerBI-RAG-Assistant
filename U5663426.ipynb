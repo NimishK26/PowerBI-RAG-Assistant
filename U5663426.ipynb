{
  "nbformat": 4,
  "nbformat_minor": 0,
  "metadata": {
    "colab": {
      "provenance": [],
      "gpuType": "T4",
      "include_colab_link": true
    },
    "kernelspec": {
      "name": "python3",
      "display_name": "Python 3"
    },
    "language_info": {
      "name": "python"
    },
    "accelerator": "GPU",
    "widgets": {
      "application/vnd.jupyter.widget-state+json": {
        "da7a8a7be46f4e9399d9da129b65f8af": {
          "model_module": "@jupyter-widgets/controls",
          "model_name": "HBoxModel",
          "model_module_version": "1.5.0",
          "state": {
            "_dom_classes": [],
            "_model_module": "@jupyter-widgets/controls",
            "_model_module_version": "1.5.0",
            "_model_name": "HBoxModel",
            "_view_count": null,
            "_view_module": "@jupyter-widgets/controls",
            "_view_module_version": "1.5.0",
            "_view_name": "HBoxView",
            "box_style": "",
            "children": [
              "IPY_MODEL_f0d556138e924c0daa8c2b91639b9530",
              "IPY_MODEL_8fafe520a64f46668713ad0bafe58ec5",
              "IPY_MODEL_113772685b334077852161fec4191248"
            ],
            "layout": "IPY_MODEL_2236aa62a8eb458bba74d6629742abe7"
          }
        },
        "f0d556138e924c0daa8c2b91639b9530": {
          "model_module": "@jupyter-widgets/controls",
          "model_name": "HTMLModel",
          "model_module_version": "1.5.0",
          "state": {
            "_dom_classes": [],
            "_model_module": "@jupyter-widgets/controls",
            "_model_module_version": "1.5.0",
            "_model_name": "HTMLModel",
            "_view_count": null,
            "_view_module": "@jupyter-widgets/controls",
            "_view_module_version": "1.5.0",
            "_view_name": "HTMLView",
            "description": "",
            "description_tooltip": null,
            "layout": "IPY_MODEL_90398816688b4adeb91926833cc5e8c1",
            "placeholder": "​",
            "style": "IPY_MODEL_623640e9044a4b5ebee4a2ef77110186",
            "value": "Fetching 1 files: 100%"
          }
        },
        "8fafe520a64f46668713ad0bafe58ec5": {
          "model_module": "@jupyter-widgets/controls",
          "model_name": "FloatProgressModel",
          "model_module_version": "1.5.0",
          "state": {
            "_dom_classes": [],
            "_model_module": "@jupyter-widgets/controls",
            "_model_module_version": "1.5.0",
            "_model_name": "FloatProgressModel",
            "_view_count": null,
            "_view_module": "@jupyter-widgets/controls",
            "_view_module_version": "1.5.0",
            "_view_name": "ProgressView",
            "bar_style": "success",
            "description": "",
            "description_tooltip": null,
            "layout": "IPY_MODEL_424c2f76a6c8466db1c2bbf4b888e256",
            "max": 1,
            "min": 0,
            "orientation": "horizontal",
            "style": "IPY_MODEL_7906bc123cc74020a30dbf75cbdba729",
            "value": 1
          }
        },
        "113772685b334077852161fec4191248": {
          "model_module": "@jupyter-widgets/controls",
          "model_name": "HTMLModel",
          "model_module_version": "1.5.0",
          "state": {
            "_dom_classes": [],
            "_model_module": "@jupyter-widgets/controls",
            "_model_module_version": "1.5.0",
            "_model_name": "HTMLModel",
            "_view_count": null,
            "_view_module": "@jupyter-widgets/controls",
            "_view_module_version": "1.5.0",
            "_view_name": "HTMLView",
            "description": "",
            "description_tooltip": null,
            "layout": "IPY_MODEL_78b0647106f24089bdaa2edb2c3b3bea",
            "placeholder": "​",
            "style": "IPY_MODEL_40233b8f51514c1a923b1da46609a8d1",
            "value": " 1/1 [00:00&lt;00:00, 92.12it/s]"
          }
        },
        "2236aa62a8eb458bba74d6629742abe7": {
          "model_module": "@jupyter-widgets/base",
          "model_name": "LayoutModel",
          "model_module_version": "1.2.0",
          "state": {
            "_model_module": "@jupyter-widgets/base",
            "_model_module_version": "1.2.0",
            "_model_name": "LayoutModel",
            "_view_count": null,
            "_view_module": "@jupyter-widgets/base",
            "_view_module_version": "1.2.0",
            "_view_name": "LayoutView",
            "align_content": null,
            "align_items": null,
            "align_self": null,
            "border": null,
            "bottom": null,
            "display": null,
            "flex": null,
            "flex_flow": null,
            "grid_area": null,
            "grid_auto_columns": null,
            "grid_auto_flow": null,
            "grid_auto_rows": null,
            "grid_column": null,
            "grid_gap": null,
            "grid_row": null,
            "grid_template_areas": null,
            "grid_template_columns": null,
            "grid_template_rows": null,
            "height": null,
            "justify_content": null,
            "justify_items": null,
            "left": null,
            "margin": null,
            "max_height": null,
            "max_width": null,
            "min_height": null,
            "min_width": null,
            "object_fit": null,
            "object_position": null,
            "order": null,
            "overflow": null,
            "overflow_x": null,
            "overflow_y": null,
            "padding": null,
            "right": null,
            "top": null,
            "visibility": null,
            "width": null
          }
        },
        "90398816688b4adeb91926833cc5e8c1": {
          "model_module": "@jupyter-widgets/base",
          "model_name": "LayoutModel",
          "model_module_version": "1.2.0",
          "state": {
            "_model_module": "@jupyter-widgets/base",
            "_model_module_version": "1.2.0",
            "_model_name": "LayoutModel",
            "_view_count": null,
            "_view_module": "@jupyter-widgets/base",
            "_view_module_version": "1.2.0",
            "_view_name": "LayoutView",
            "align_content": null,
            "align_items": null,
            "align_self": null,
            "border": null,
            "bottom": null,
            "display": null,
            "flex": null,
            "flex_flow": null,
            "grid_area": null,
            "grid_auto_columns": null,
            "grid_auto_flow": null,
            "grid_auto_rows": null,
            "grid_column": null,
            "grid_gap": null,
            "grid_row": null,
            "grid_template_areas": null,
            "grid_template_columns": null,
            "grid_template_rows": null,
            "height": null,
            "justify_content": null,
            "justify_items": null,
            "left": null,
            "margin": null,
            "max_height": null,
            "max_width": null,
            "min_height": null,
            "min_width": null,
            "object_fit": null,
            "object_position": null,
            "order": null,
            "overflow": null,
            "overflow_x": null,
            "overflow_y": null,
            "padding": null,
            "right": null,
            "top": null,
            "visibility": null,
            "width": null
          }
        },
        "623640e9044a4b5ebee4a2ef77110186": {
          "model_module": "@jupyter-widgets/controls",
          "model_name": "DescriptionStyleModel",
          "model_module_version": "1.5.0",
          "state": {
            "_model_module": "@jupyter-widgets/controls",
            "_model_module_version": "1.5.0",
            "_model_name": "DescriptionStyleModel",
            "_view_count": null,
            "_view_module": "@jupyter-widgets/base",
            "_view_module_version": "1.2.0",
            "_view_name": "StyleView",
            "description_width": ""
          }
        },
        "424c2f76a6c8466db1c2bbf4b888e256": {
          "model_module": "@jupyter-widgets/base",
          "model_name": "LayoutModel",
          "model_module_version": "1.2.0",
          "state": {
            "_model_module": "@jupyter-widgets/base",
            "_model_module_version": "1.2.0",
            "_model_name": "LayoutModel",
            "_view_count": null,
            "_view_module": "@jupyter-widgets/base",
            "_view_module_version": "1.2.0",
            "_view_name": "LayoutView",
            "align_content": null,
            "align_items": null,
            "align_self": null,
            "border": null,
            "bottom": null,
            "display": null,
            "flex": null,
            "flex_flow": null,
            "grid_area": null,
            "grid_auto_columns": null,
            "grid_auto_flow": null,
            "grid_auto_rows": null,
            "grid_column": null,
            "grid_gap": null,
            "grid_row": null,
            "grid_template_areas": null,
            "grid_template_columns": null,
            "grid_template_rows": null,
            "height": null,
            "justify_content": null,
            "justify_items": null,
            "left": null,
            "margin": null,
            "max_height": null,
            "max_width": null,
            "min_height": null,
            "min_width": null,
            "object_fit": null,
            "object_position": null,
            "order": null,
            "overflow": null,
            "overflow_x": null,
            "overflow_y": null,
            "padding": null,
            "right": null,
            "top": null,
            "visibility": null,
            "width": null
          }
        },
        "7906bc123cc74020a30dbf75cbdba729": {
          "model_module": "@jupyter-widgets/controls",
          "model_name": "ProgressStyleModel",
          "model_module_version": "1.5.0",
          "state": {
            "_model_module": "@jupyter-widgets/controls",
            "_model_module_version": "1.5.0",
            "_model_name": "ProgressStyleModel",
            "_view_count": null,
            "_view_module": "@jupyter-widgets/base",
            "_view_module_version": "1.2.0",
            "_view_name": "StyleView",
            "bar_color": null,
            "description_width": ""
          }
        },
        "78b0647106f24089bdaa2edb2c3b3bea": {
          "model_module": "@jupyter-widgets/base",
          "model_name": "LayoutModel",
          "model_module_version": "1.2.0",
          "state": {
            "_model_module": "@jupyter-widgets/base",
            "_model_module_version": "1.2.0",
            "_model_name": "LayoutModel",
            "_view_count": null,
            "_view_module": "@jupyter-widgets/base",
            "_view_module_version": "1.2.0",
            "_view_name": "LayoutView",
            "align_content": null,
            "align_items": null,
            "align_self": null,
            "border": null,
            "bottom": null,
            "display": null,
            "flex": null,
            "flex_flow": null,
            "grid_area": null,
            "grid_auto_columns": null,
            "grid_auto_flow": null,
            "grid_auto_rows": null,
            "grid_column": null,
            "grid_gap": null,
            "grid_row": null,
            "grid_template_areas": null,
            "grid_template_columns": null,
            "grid_template_rows": null,
            "height": null,
            "justify_content": null,
            "justify_items": null,
            "left": null,
            "margin": null,
            "max_height": null,
            "max_width": null,
            "min_height": null,
            "min_width": null,
            "object_fit": null,
            "object_position": null,
            "order": null,
            "overflow": null,
            "overflow_x": null,
            "overflow_y": null,
            "padding": null,
            "right": null,
            "top": null,
            "visibility": null,
            "width": null
          }
        },
        "40233b8f51514c1a923b1da46609a8d1": {
          "model_module": "@jupyter-widgets/controls",
          "model_name": "DescriptionStyleModel",
          "model_module_version": "1.5.0",
          "state": {
            "_model_module": "@jupyter-widgets/controls",
            "_model_module_version": "1.5.0",
            "_model_name": "DescriptionStyleModel",
            "_view_count": null,
            "_view_module": "@jupyter-widgets/base",
            "_view_module_version": "1.2.0",
            "_view_name": "StyleView",
            "description_width": ""
          }
        },
        "d29fde4859694e47b9a83abd55615a7d": {
          "model_module": "@jupyter-widgets/controls",
          "model_name": "HBoxModel",
          "model_module_version": "1.5.0",
          "state": {
            "_dom_classes": [],
            "_model_module": "@jupyter-widgets/controls",
            "_model_module_version": "1.5.0",
            "_model_name": "HBoxModel",
            "_view_count": null,
            "_view_module": "@jupyter-widgets/controls",
            "_view_module_version": "1.5.0",
            "_view_name": "HBoxView",
            "box_style": "",
            "children": [
              "IPY_MODEL_8d52c510bd4741c299cbe722fa58bc67",
              "IPY_MODEL_0903e650cfa0429fbd11f01186420850",
              "IPY_MODEL_a93485e83c9c43ca8b714c923e7de68d"
            ],
            "layout": "IPY_MODEL_4cb1014593454dd0974e3b97f658556c"
          }
        },
        "8d52c510bd4741c299cbe722fa58bc67": {
          "model_module": "@jupyter-widgets/controls",
          "model_name": "HTMLModel",
          "model_module_version": "1.5.0",
          "state": {
            "_dom_classes": [],
            "_model_module": "@jupyter-widgets/controls",
            "_model_module_version": "1.5.0",
            "_model_name": "HTMLModel",
            "_view_count": null,
            "_view_module": "@jupyter-widgets/controls",
            "_view_module_version": "1.5.0",
            "_view_name": "HTMLView",
            "description": "",
            "description_tooltip": null,
            "layout": "IPY_MODEL_4f9d7fd508d94a0e947afc0bfe5d247e",
            "placeholder": "​",
            "style": "IPY_MODEL_4887aa22d0e24c87b067dfb87f85b035",
            "value": "Fetching 1 files: 100%"
          }
        },
        "0903e650cfa0429fbd11f01186420850": {
          "model_module": "@jupyter-widgets/controls",
          "model_name": "FloatProgressModel",
          "model_module_version": "1.5.0",
          "state": {
            "_dom_classes": [],
            "_model_module": "@jupyter-widgets/controls",
            "_model_module_version": "1.5.0",
            "_model_name": "FloatProgressModel",
            "_view_count": null,
            "_view_module": "@jupyter-widgets/controls",
            "_view_module_version": "1.5.0",
            "_view_name": "ProgressView",
            "bar_style": "success",
            "description": "",
            "description_tooltip": null,
            "layout": "IPY_MODEL_7a410b06f934435fa25fb52c6bbda8b0",
            "max": 1,
            "min": 0,
            "orientation": "horizontal",
            "style": "IPY_MODEL_146f8b4f70304c3380a07f365e974e22",
            "value": 1
          }
        },
        "a93485e83c9c43ca8b714c923e7de68d": {
          "model_module": "@jupyter-widgets/controls",
          "model_name": "HTMLModel",
          "model_module_version": "1.5.0",
          "state": {
            "_dom_classes": [],
            "_model_module": "@jupyter-widgets/controls",
            "_model_module_version": "1.5.0",
            "_model_name": "HTMLModel",
            "_view_count": null,
            "_view_module": "@jupyter-widgets/controls",
            "_view_module_version": "1.5.0",
            "_view_name": "HTMLView",
            "description": "",
            "description_tooltip": null,
            "layout": "IPY_MODEL_825b3f3c0a284a58851dc5cdb8e90db9",
            "placeholder": "​",
            "style": "IPY_MODEL_80c4b91553a040f19944df073adbcc40",
            "value": " 1/1 [00:00&lt;00:00, 73.45it/s]"
          }
        },
        "4cb1014593454dd0974e3b97f658556c": {
          "model_module": "@jupyter-widgets/base",
          "model_name": "LayoutModel",
          "model_module_version": "1.2.0",
          "state": {
            "_model_module": "@jupyter-widgets/base",
            "_model_module_version": "1.2.0",
            "_model_name": "LayoutModel",
            "_view_count": null,
            "_view_module": "@jupyter-widgets/base",
            "_view_module_version": "1.2.0",
            "_view_name": "LayoutView",
            "align_content": null,
            "align_items": null,
            "align_self": null,
            "border": null,
            "bottom": null,
            "display": null,
            "flex": null,
            "flex_flow": null,
            "grid_area": null,
            "grid_auto_columns": null,
            "grid_auto_flow": null,
            "grid_auto_rows": null,
            "grid_column": null,
            "grid_gap": null,
            "grid_row": null,
            "grid_template_areas": null,
            "grid_template_columns": null,
            "grid_template_rows": null,
            "height": null,
            "justify_content": null,
            "justify_items": null,
            "left": null,
            "margin": null,
            "max_height": null,
            "max_width": null,
            "min_height": null,
            "min_width": null,
            "object_fit": null,
            "object_position": null,
            "order": null,
            "overflow": null,
            "overflow_x": null,
            "overflow_y": null,
            "padding": null,
            "right": null,
            "top": null,
            "visibility": null,
            "width": null
          }
        },
        "4f9d7fd508d94a0e947afc0bfe5d247e": {
          "model_module": "@jupyter-widgets/base",
          "model_name": "LayoutModel",
          "model_module_version": "1.2.0",
          "state": {
            "_model_module": "@jupyter-widgets/base",
            "_model_module_version": "1.2.0",
            "_model_name": "LayoutModel",
            "_view_count": null,
            "_view_module": "@jupyter-widgets/base",
            "_view_module_version": "1.2.0",
            "_view_name": "LayoutView",
            "align_content": null,
            "align_items": null,
            "align_self": null,
            "border": null,
            "bottom": null,
            "display": null,
            "flex": null,
            "flex_flow": null,
            "grid_area": null,
            "grid_auto_columns": null,
            "grid_auto_flow": null,
            "grid_auto_rows": null,
            "grid_column": null,
            "grid_gap": null,
            "grid_row": null,
            "grid_template_areas": null,
            "grid_template_columns": null,
            "grid_template_rows": null,
            "height": null,
            "justify_content": null,
            "justify_items": null,
            "left": null,
            "margin": null,
            "max_height": null,
            "max_width": null,
            "min_height": null,
            "min_width": null,
            "object_fit": null,
            "object_position": null,
            "order": null,
            "overflow": null,
            "overflow_x": null,
            "overflow_y": null,
            "padding": null,
            "right": null,
            "top": null,
            "visibility": null,
            "width": null
          }
        },
        "4887aa22d0e24c87b067dfb87f85b035": {
          "model_module": "@jupyter-widgets/controls",
          "model_name": "DescriptionStyleModel",
          "model_module_version": "1.5.0",
          "state": {
            "_model_module": "@jupyter-widgets/controls",
            "_model_module_version": "1.5.0",
            "_model_name": "DescriptionStyleModel",
            "_view_count": null,
            "_view_module": "@jupyter-widgets/base",
            "_view_module_version": "1.2.0",
            "_view_name": "StyleView",
            "description_width": ""
          }
        },
        "7a410b06f934435fa25fb52c6bbda8b0": {
          "model_module": "@jupyter-widgets/base",
          "model_name": "LayoutModel",
          "model_module_version": "1.2.0",
          "state": {
            "_model_module": "@jupyter-widgets/base",
            "_model_module_version": "1.2.0",
            "_model_name": "LayoutModel",
            "_view_count": null,
            "_view_module": "@jupyter-widgets/base",
            "_view_module_version": "1.2.0",
            "_view_name": "LayoutView",
            "align_content": null,
            "align_items": null,
            "align_self": null,
            "border": null,
            "bottom": null,
            "display": null,
            "flex": null,
            "flex_flow": null,
            "grid_area": null,
            "grid_auto_columns": null,
            "grid_auto_flow": null,
            "grid_auto_rows": null,
            "grid_column": null,
            "grid_gap": null,
            "grid_row": null,
            "grid_template_areas": null,
            "grid_template_columns": null,
            "grid_template_rows": null,
            "height": null,
            "justify_content": null,
            "justify_items": null,
            "left": null,
            "margin": null,
            "max_height": null,
            "max_width": null,
            "min_height": null,
            "min_width": null,
            "object_fit": null,
            "object_position": null,
            "order": null,
            "overflow": null,
            "overflow_x": null,
            "overflow_y": null,
            "padding": null,
            "right": null,
            "top": null,
            "visibility": null,
            "width": null
          }
        },
        "146f8b4f70304c3380a07f365e974e22": {
          "model_module": "@jupyter-widgets/controls",
          "model_name": "ProgressStyleModel",
          "model_module_version": "1.5.0",
          "state": {
            "_model_module": "@jupyter-widgets/controls",
            "_model_module_version": "1.5.0",
            "_model_name": "ProgressStyleModel",
            "_view_count": null,
            "_view_module": "@jupyter-widgets/base",
            "_view_module_version": "1.2.0",
            "_view_name": "StyleView",
            "bar_color": null,
            "description_width": ""
          }
        },
        "825b3f3c0a284a58851dc5cdb8e90db9": {
          "model_module": "@jupyter-widgets/base",
          "model_name": "LayoutModel",
          "model_module_version": "1.2.0",
          "state": {
            "_model_module": "@jupyter-widgets/base",
            "_model_module_version": "1.2.0",
            "_model_name": "LayoutModel",
            "_view_count": null,
            "_view_module": "@jupyter-widgets/base",
            "_view_module_version": "1.2.0",
            "_view_name": "LayoutView",
            "align_content": null,
            "align_items": null,
            "align_self": null,
            "border": null,
            "bottom": null,
            "display": null,
            "flex": null,
            "flex_flow": null,
            "grid_area": null,
            "grid_auto_columns": null,
            "grid_auto_flow": null,
            "grid_auto_rows": null,
            "grid_column": null,
            "grid_gap": null,
            "grid_row": null,
            "grid_template_areas": null,
            "grid_template_columns": null,
            "grid_template_rows": null,
            "height": null,
            "justify_content": null,
            "justify_items": null,
            "left": null,
            "margin": null,
            "max_height": null,
            "max_width": null,
            "min_height": null,
            "min_width": null,
            "object_fit": null,
            "object_position": null,
            "order": null,
            "overflow": null,
            "overflow_x": null,
            "overflow_y": null,
            "padding": null,
            "right": null,
            "top": null,
            "visibility": null,
            "width": null
          }
        },
        "80c4b91553a040f19944df073adbcc40": {
          "model_module": "@jupyter-widgets/controls",
          "model_name": "DescriptionStyleModel",
          "model_module_version": "1.5.0",
          "state": {
            "_model_module": "@jupyter-widgets/controls",
            "_model_module_version": "1.5.0",
            "_model_name": "DescriptionStyleModel",
            "_view_count": null,
            "_view_module": "@jupyter-widgets/base",
            "_view_module_version": "1.2.0",
            "_view_name": "StyleView",
            "description_width": ""
          }
        }
      }
    }
  },
  "cells": [
    {
      "cell_type": "markdown",
      "metadata": {
        "id": "view-in-github",
        "colab_type": "text"
      },
      "source": [
        "<a href=\"https://colab.research.google.com/github/NimishK26/PowerBI-RAG-Assistant/blob/main/U5663426.ipynb\" target=\"_parent\"><img src=\"https://colab.research.google.com/assets/colab-badge.svg\" alt=\"Open In Colab\"/></a>"
      ]
    },
    {
      "cell_type": "markdown",
      "source": [
        "# PowerBI RAG Assistant"
      ],
      "metadata": {
        "id": "BjXuXqLfJ9Uk"
      }
    },
    {
      "cell_type": "markdown",
      "source": [
        "# Data Preprocessing"
      ],
      "metadata": {
        "id": "nMomx9KLKE3y"
      }
    },
    {
      "cell_type": "markdown",
      "source": [
        "Chunking\n",
        "\n",
        "This section reads all markdown pages from the Power BI docs, extracts titles and text, and splits each document into overlapping chunks."
      ],
      "metadata": {
        "id": "q1HFd73gKHBT"
      }
    },
    {
      "cell_type": "code",
      "source": [
        "!git clone https://github.com/MicrosoftDocs/powerbi-docs.git\n"
      ],
      "metadata": {
        "colab": {
          "base_uri": "https://localhost:8080/"
        },
        "id": "OWWS8jHONoT0",
        "outputId": "71ef1f52-ad36-48df-9288-813150ef7116"
      },
      "execution_count": null,
      "outputs": [
        {
          "output_type": "stream",
          "name": "stdout",
          "text": [
            "Cloning into 'powerbi-docs'...\n",
            "remote: Enumerating objects: 350115, done.\u001b[K\n",
            "remote: Counting objects: 100% (749/749), done.\u001b[K\n",
            "remote: Compressing objects: 100% (263/263), done.\u001b[K\n",
            "remote: Total 350115 (delta 564), reused 587 (delta 486), pack-reused 349366 (from 3)\u001b[K\n",
            "Receiving objects: 100% (350115/350115), 2.56 GiB | 35.84 MiB/s, done.\n",
            "Resolving deltas: 100% (250272/250272), done.\n",
            "Updating files: 100% (11019/11019), done.\n"
          ]
        }
      ]
    },
    {
      "cell_type": "code",
      "source": [
        "import os\n",
        "import glob\n",
        "import re\n",
        "import pickle\n",
        "from langchain.text_splitter import RecursiveCharacterTextSplitter\n",
        "\n",
        "def md_path_to_url(md_path: str) -> str:\n",
        "    rel = md_path.replace(\"powerbi-docs/powerbi-docs/\", \"\").replace(\".md\", \"\")\n",
        "    rel = rel.lower()\n",
        "    return f\"https://docs.microsoft.com/en-us/power-bi/{rel}\"\n",
        "\n",
        "md_files = glob.glob(\"powerbi-docs/powerbi-docs/**/*.md\", recursive=True)\n",
        "\n",
        "all_docs = []\n",
        "for md_path in md_files:\n",
        "    with open(md_path, \"r\", encoding=\"utf-8\") as f:\n",
        "        content = f.read()\n",
        "    title_match = re.search(r\"^# (.+)$\", content, flags=re.MULTILINE)\n",
        "    if title_match:\n",
        "        title = title_match.group(1).strip()\n",
        "    else:\n",
        "        title = os.path.basename(md_path).replace(\".md\", \"\")\n",
        "    url = md_path_to_url(md_path)\n",
        "    all_docs.append({\n",
        "        \"file_path\": md_path,\n",
        "        \"title\":     title,\n",
        "        \"text\":      content,\n",
        "        \"url\":       url\n",
        "    })\n",
        "\n",
        "splitter = RecursiveCharacterTextSplitter(chunk_size=500, chunk_overlap=100)\n",
        "\n",
        "doc_chunks = []\n",
        "for doc in all_docs:\n",
        "    pieces = splitter.split_text(doc[\"text\"])\n",
        "    for piece in pieces:\n",
        "        doc_chunks.append({\n",
        "            \"title\":  doc[\"title\"],\n",
        "            \"url\":    doc[\"url\"],\n",
        "            \"text\":   piece,\n",
        "            \"source\": \"docs\"\n",
        "        })\n"
      ],
      "metadata": {
        "id": "faVitomQN92V"
      },
      "execution_count": null,
      "outputs": []
    },
    {
      "cell_type": "markdown",
      "source": [
        "# Embedding"
      ],
      "metadata": {
        "id": "C8duvxv4KI3g"
      }
    },
    {
      "cell_type": "markdown",
      "source": [
        "This section loads the MPNet model on GPU and computes embeddings for every chunk.\n"
      ],
      "metadata": {
        "id": "W_fMcyMMOZRH"
      }
    },
    {
      "cell_type": "code",
      "source": [
        "import numpy as np\n",
        "import torch\n",
        "from sentence_transformers import SentenceTransformer\n",
        "\n",
        "DEVICE = \"cuda\" if torch.cuda.is_available() else \"cpu\"\n",
        "\n",
        "embed_model = SentenceTransformer(\"all-mpnet-base-v2\", device=DEVICE)\n",
        "\n",
        "texts = [chunk[\"text\"] for chunk in doc_chunks]\n",
        "\n",
        "batch_size = 128\n",
        "emb_list = []\n",
        "for i in range(0, len(texts), batch_size):\n",
        "    batch_texts = texts[i : i + batch_size]\n",
        "    batch_emb = embed_model.encode(batch_texts, convert_to_numpy=True).astype(\"float32\")\n",
        "    emb_list.append(batch_emb)\n",
        "\n",
        "embeddings = np.vstack(emb_list)\n"
      ],
      "metadata": {
        "id": "uXjEFt37OS25"
      },
      "execution_count": null,
      "outputs": []
    },
    {
      "cell_type": "markdown",
      "source": [
        "Vector Database Storage\n",
        "\n",
        "Here we normalize embeddings (for cosine similarity) and build a FAISS index. The index and chunk metadata are then saved to disk."
      ],
      "metadata": {
        "id": "mrzHHo1wKNPe"
      }
    },
    {
      "cell_type": "code",
      "source": [
        "!pip install faiss-cpu -q\n",
        "\n",
        "import faiss\n",
        "import pickle\n",
        "\n",
        "\n",
        "import numpy as np\n",
        "norms = np.linalg.norm(embeddings, axis=1, keepdims=True)\n",
        "embeddings = embeddings / (norms + 1e-10)\n",
        "\n",
        "dim = embeddings.shape[1]\n",
        "index = faiss.IndexFlatIP(dim)\n",
        "index.add(embeddings)\n",
        "\n",
        "faiss.write_index(index, \"powerbi_docs_index_mpnet_over100.faiss\")\n",
        "with open(\"powerbi_docs_chunks_mpnet_over100.pkl\", \"wb\") as f:\n",
        "    pickle.dump(doc_chunks, f)\n"
      ],
      "metadata": {
        "colab": {
          "base_uri": "https://localhost:8080/"
        },
        "id": "3fyi7X-oOkpf",
        "outputId": "540bdb68-3922-4586-b480-84d8ca3b9a2e"
      },
      "execution_count": null,
      "outputs": [
        {
          "output_type": "stream",
          "name": "stdout",
          "text": [
            "\u001b[2K   \u001b[90m━━━━━━━━━━━━━━━━━━━━━━━━━━━━━━━━━━━━━━━━\u001b[0m \u001b[32m31.3/31.3 MB\u001b[0m \u001b[31m69.3 MB/s\u001b[0m eta \u001b[36m0:00:00\u001b[0m\n",
            "\u001b[?25h"
          ]
        }
      ]
    },
    {
      "cell_type": "markdown",
      "source": [
        "# Retrieval & Reranking"
      ],
      "metadata": {
        "id": "T-EJkR_YKOme"
      }
    },
    {
      "cell_type": "markdown",
      "source": [
        "Baseline Retrieval\n",
        "\n",
        "We load the saved FAISS index and chunk metadata, reinitialize MPNet for query embeddings, and define a function to retrieve the top‐k unique chunks (applying simple URL heuristics)."
      ],
      "metadata": {
        "id": "Bn1jRDlAKSOL"
      }
    },
    {
      "cell_type": "code",
      "source": [
        "# @title\n",
        "import os\n",
        "import pickle\n",
        "import faiss\n",
        "import torch\n",
        "import numpy as np\n",
        "import re\n",
        "\n",
        "from typing import List, Dict\n",
        "from sentence_transformers import SentenceTransformer\n",
        "\n",
        "\n",
        "assert os.path.exists(\"powerbi_docs_index_mpnet_over100.faiss\"), \\\n",
        "       \"powerbi_docs_index_mpnet_over100.faiss not found.\"\n",
        "assert os.path.exists(\"powerbi_docs_chunks_mpnet_over100.pkl\"), \\\n",
        "       \"powerbi_docs_chunks_mpnet_over100.pkl not found.\"\n",
        "\n",
        "index_mpnet = faiss.read_index(\"powerbi_docs_index_mpnet_over100.faiss\")\n",
        "with open(\"powerbi_docs_chunks_mpnet_over100.pkl\", \"rb\") as f:\n",
        "    all_chunks_mpnet: List[Dict] = pickle.load(f)\n",
        "\n",
        "DEVICE = \"cuda\" if torch.cuda.is_available() else \"cpu\"\n",
        "embed_model = SentenceTransformer(\"all-mpnet-base-v2\", device=DEVICE)\n",
        "\n",
        "def retrieve_unique(query: str, k: int = 3, k_raw: int = 20) -> List[Dict]:\n",
        "    q_emb = embed_model.encode([query], convert_to_numpy=True).astype(\"float32\")\n",
        "    norm = np.linalg.norm(q_emb, axis=1, keepdims=True)\n",
        "    q_emb_norm = q_emb / (norm + 1e-10)\n",
        "\n",
        "    distances, indices = index_mpnet.search(q_emb_norm, k_raw)\n",
        "    distances = distances.flatten()\n",
        "    indices   = indices.flatten()\n",
        "\n",
        "    lower = query.lower()\n",
        "    combined = list(zip(distances.tolist(), indices.tolist()))\n",
        "\n",
        "    if \"csv\" in lower:\n",
        "        combined.sort(key=lambda x: (\n",
        "            0 if \"desktop-text-and-csv-files\" in all_chunks_mpnet[x[1]][\"url\"] else 1,\n",
        "            x[0]\n",
        "        ))\n",
        "    if \"duplicate\" in lower:\n",
        "        combined.sort(key=lambda x: (\n",
        "            0 if \"/desktop-shape-and-combine-data#remove-duplicate-rows\" in all_chunks_mpnet[x[1]][\"url\"] else 1,\n",
        "            x[0]\n",
        "        ))\n",
        "    if \"format\" in lower and \"measure\" in lower:\n",
        "        combined.sort(key=lambda x: (\n",
        "            0 if \"/desktop-format-measures\" in all_chunks_mpnet[x[1]][\"url\"] else 1,\n",
        "            x[0]\n",
        "        ))\n",
        "    if \"totalytd\" in lower:\n",
        "        combined.sort(key=lambda x: (\n",
        "            0 if \"/dax/totalytd-function-dax\" in all_chunks_mpnet[x[1]][\"url\"] else 1,\n",
        "            x[0]\n",
        "        ))\n",
        "    if \"group by\" in lower:\n",
        "        combined.sort(key=lambda x: (\n",
        "            0 if \"/desktop-shape-and-combine-data#group-by\" in all_chunks_mpnet[x[1]][\"url\"] else 1,\n",
        "            x[0]\n",
        "        ))\n",
        "    if \"rolling 12\" in lower:\n",
        "        combined.sort(key=lambda x: (\n",
        "            0 if \"datesinperiod\" in all_chunks_mpnet[x[1]][\"url\"] else 1,\n",
        "            x[0]\n",
        "        ))\n",
        "    if \"paginated\" in lower and \"quarter\" in lower:\n",
        "        combined.sort(key=lambda x: (\n",
        "            0 if (\"report-design\" in all_chunks_mpnet[x[1]][\"url\"] and \"quarter\" in all_chunks_mpnet[x[1]][\"url\"]) else 1,\n",
        "            x[0]\n",
        "        ))\n",
        "\n",
        "    distances, indices = zip(*combined)\n",
        "    distances = np.array(distances).astype(\"float32\")\n",
        "    indices   = np.array(indices).astype(\"int64\")\n",
        "\n",
        "\n",
        "    seen_urls = set()\n",
        "    unique_results = []\n",
        "    for dist, idx in zip(distances, indices):\n",
        "        if idx < 0 or idx >= len(all_chunks_mpnet):\n",
        "            continue\n",
        "        chunk = all_chunks_mpnet[idx]\n",
        "        url = chunk[\"url\"]\n",
        "        if url in seen_urls:\n",
        "            continue\n",
        "        seen_urls.add(url)\n",
        "\n",
        "        text = chunk[\"text\"]\n",
        "        first_word = query.split()[0]\n",
        "        match = re.search(re.escape(first_word), text, flags=re.IGNORECASE)\n",
        "        if match:\n",
        "            start = max(match.start() - 100, 0)\n",
        "            end   = min(match.end() + 100, len(text))\n",
        "            snippet = text[start:end].replace(\"\\n\", \" \").strip()\n",
        "        else:\n",
        "            snippet = text.replace(\"\\n\", \" \").strip()[:500]\n",
        "\n",
        "        unique_results.append({\n",
        "            \"title\":    chunk[\"title\"],\n",
        "            \"url\":      url,\n",
        "            \"distance\": float(dist),\n",
        "            \"snippet\":  snippet + \" …\"\n",
        "        })\n",
        "        if len(unique_results) == k:\n",
        "            break\n",
        "\n",
        "    return unique_results\n",
        "\n",
        "\n",
        "if __name__ == \"__main__\":\n",
        "    sample_query = \"How do I create a bar chart in Power BI?\"\n",
        "    top_chunks = retrieve_unique(sample_query, k=3, k_raw=20)\n",
        "    for i, res in enumerate(top_chunks, start=1):\n",
        "        print(f\"{i}. {res['url']}  (Distance: {res['distance']:.4f})\")\n",
        "        print(f\"   Snippet: {res['snippet']}\\n\")\n"
      ],
      "metadata": {
        "colab": {
          "base_uri": "https://localhost:8080/"
        },
        "id": "SSEaIlzsOooa",
        "outputId": "f8db8352-708b-4197-870d-bfcdb76134dc"
      },
      "execution_count": null,
      "outputs": [
        {
          "output_type": "stream",
          "name": "stdout",
          "text": [
            "1. https://docs.microsoft.com/en-us/power-bi/developer/visuals/create-bar-chart  (Distance: 0.8991)\n",
            "   Snippet: # Tutorial: Build a bar chart  This tutorial shows you how to develop a Power BI visual that displays data in the form of a simple bar chart. This vi …\n",
            "\n",
            "2. https://docs.microsoft.com/en-us/power-bi/paginated-reports/report-design/visualizations/charts-report-builder  (Distance: 0.8621)\n",
            "   Snippet: - [Tutorial: Add a Bar Chart to Your Report &#40;Power BI Report Builder&#41;](/sql/reporting-services/tutorial-add-a-bar-chart-to-your-report-report-builder) …\n",
            "\n",
            "3. https://docs.microsoft.com/en-us/power-bi/visuals/power-bi-visualization-column-charts  (Distance: 0.8360)\n",
            "   Snippet: # [Power BI service](#tab/powerbi-service)  Before we begin, if you haven't already done so, refer to the **[Prerequisites](#prerequisites)** section above, and follow the steps under the tab for **Power BI service**.  For this example, let’s create a column chart starting from the **Visualizations pane** in **Power BI service**. …\n",
            "\n"
          ]
        }
      ]
    },
    {
      "cell_type": "markdown",
      "source": [
        "# Generation"
      ],
      "metadata": {
        "id": "ZanWEujOKUfj"
      }
    },
    {
      "cell_type": "markdown",
      "source": [
        "Prompt Template\n",
        "\n",
        "We load Llama-2 via CTransformers and build a simple prompt that includes only the top retrieved snippet plus the user’s question, instructing the model to answer concisely and append the URL."
      ],
      "metadata": {
        "id": "M5sQcJYYKWk5"
      }
    },
    {
      "cell_type": "code",
      "source": [
        "!pip install langchain-community ctransformers -q\n"
      ],
      "metadata": {
        "colab": {
          "base_uri": "https://localhost:8080/"
        },
        "id": "MRN8o_vfPE4x",
        "outputId": "f11669c9-6d77-4e0f-f805-a0abe8a5fb3d"
      },
      "execution_count": null,
      "outputs": [
        {
          "output_type": "stream",
          "name": "stdout",
          "text": [
            "\u001b[?25l   \u001b[90m━━━━━━━━━━━━━━━━━━━━━━━━━━━━━━━━━━━━━━━━\u001b[0m \u001b[32m0.0/2.5 MB\u001b[0m \u001b[31m?\u001b[0m eta \u001b[36m-:--:--\u001b[0m\r\u001b[2K   \u001b[91m━━━━━━━━━━━━━━━━━━━━━\u001b[0m\u001b[91m╸\u001b[0m\u001b[90m━━━━━━━━━━━━━━━━━━\u001b[0m \u001b[32m1.4/2.5 MB\u001b[0m \u001b[31m41.2 MB/s\u001b[0m eta \u001b[36m0:00:01\u001b[0m\r\u001b[2K   \u001b[90m━━━━━━━━━━━━━━━━━━━━━━━━━━━━━━━━━━━━━━━━\u001b[0m \u001b[32m2.5/2.5 MB\u001b[0m \u001b[31m44.6 MB/s\u001b[0m eta \u001b[36m0:00:00\u001b[0m\n",
            "\u001b[2K   \u001b[90m━━━━━━━━━━━━━━━━━━━━━━━━━━━━━━━━━━━━━━━━\u001b[0m \u001b[32m9.9/9.9 MB\u001b[0m \u001b[31m117.9 MB/s\u001b[0m eta \u001b[36m0:00:00\u001b[0m\n",
            "\u001b[2K   \u001b[90m━━━━━━━━━━━━━━━━━━━━━━━━━━━━━━━━━━━━━━━━\u001b[0m \u001b[32m44.4/44.4 kB\u001b[0m \u001b[31m3.9 MB/s\u001b[0m eta \u001b[36m0:00:00\u001b[0m\n",
            "\u001b[2K   \u001b[90m━━━━━━━━━━━━━━━━━━━━━━━━━━━━━━━━━━━━━━━━\u001b[0m \u001b[32m50.9/50.9 kB\u001b[0m \u001b[31m4.5 MB/s\u001b[0m eta \u001b[36m0:00:00\u001b[0m\n",
            "\u001b[?25h"
          ]
        }
      ]
    },
    {
      "cell_type": "markdown",
      "source": [
        "Answer Function"
      ],
      "metadata": {
        "id": "2dMMWrBBKX7E"
      }
    },
    {
      "cell_type": "markdown",
      "source": [
        "This function calls the LLM with the prompt, then unconditionally appends the top chunk’s URL at the end of the answer."
      ],
      "metadata": {
        "id": "8NntnwX4PJyT"
      }
    },
    {
      "cell_type": "code",
      "source": [
        "import torch\n",
        "from langchain_community.llms import CTransformers\n",
        "\n",
        "DEVICE = \"cuda\" if torch.cuda.is_available() else \"cpu\"\n",
        "print(\"Using device:\", DEVICE)\n",
        "\n",
        "llm = CTransformers(\n",
        "    model=\"TheBloke/Llama-2-7B-Chat-GGML\",\n",
        "    model_type=\"llama\",\n",
        "    config={\n",
        "        \"max_new_tokens\": 128,\n",
        "        \"temperature\": 0.1,\n",
        "        \"top_p\": 0.8\n",
        "    }\n",
        ")\n",
        "print(\"Llama-2-7B-Chat loaded\")\n",
        "\n",
        "USE_REWRITE = False\n",
        "\n",
        "def debug_retrieve(query: str, k_raw: int = 18) -> None:\n",
        "    rewritten = query\n",
        "    q_emb = embed_model.encode([rewritten], convert_to_numpy=True).astype(\"float32\")\n",
        "    norm = torch.norm(torch.from_numpy(q_emb), dim=1, keepdim=True).numpy()\n",
        "    q_emb_norm = q_emb / (norm + 1e-10)\n",
        "    distances, indices = index_mpnet.search(q_emb_norm, k_raw)\n",
        "    distances = distances.flatten()\n",
        "    indices = indices.flatten()\n",
        "    print(f\"\\nTop {k_raw} raw candidates for: '{query}'\")\n",
        "    for i in range(min(5, len(indices))):\n",
        "        idx = indices[i]\n",
        "        chunk = all_chunks_mpnet[idx]\n",
        "        print(f\"  {i+1}. {chunk['url']}  (Distance: {distances[i]:.3f})\")\n",
        "    print()\n",
        "\n",
        "def build_simple_prompt(query: str, top_chunk: dict) -> str:\n",
        "    snippet = top_chunk[\"snippet\"]\n",
        "    if len(snippet) < 100 and \"text\" in top_chunk:\n",
        "        snippet = top_chunk[\"text\"].replace(\"\\n\", \" \").strip()[:400]\n",
        "    snippet = snippet.replace(\"\\n\", \" \").strip()\n",
        "    lines = [\n",
        "        \"### System:\\n\",\n",
        "        \"You are a Power BI assistant. Use ONLY the context below to answer concisely, and then append the documentation URL at the very end.\\n\\n\",\n",
        "        \"### Context:\\n\",\n",
        "        f\"{snippet}\\n\\n\",\n",
        "        \"### Question:\\n\",\n",
        "        f\"{query}\\n\\n\",\n",
        "        \"### Answer:\\n\"\n",
        "    ]\n",
        "    return \"\".join(lines)\n",
        "\n",
        "def generate_simple_answer(query: str, top_chunk: dict) -> str:\n",
        "    prompt = build_simple_prompt(query, top_chunk)\n",
        "    assert len(prompt) < 16000, \"Prompt too long—trim snippet or reduce k.\"\n",
        "    response = llm(prompt).strip()\n",
        "    return response + f\"\\n\\nLink: {top_chunk['url']}\"\n",
        "\n",
        "def rag_query_simple(query: str, k: int = 3) -> None:\n",
        "    debug_retrieve(query, k_raw=18)\n",
        "    top_chunks = retrieve_unique(query, k=k, k_raw=18)\n",
        "    top = top_chunks[0]\n",
        "    print(f\"Top Retrieved (post-filter): {top['url']}  (Distance: {top['distance']:.3f})\")\n",
        "    print(f\"Snippet: {top['snippet']}\\n\")\n",
        "    print(\"Generating concise answer …\")\n",
        "    answer = generate_simple_answer(query, top)\n",
        "    print(\"\\n--- Generated Answer ---\\n\")\n",
        "    print(answer)\n",
        "    print(\"\\n--- End of Answer ---\\n\")\n",
        "\n",
        "if __name__ == \"__main__\":\n",
        "    rag_query_simple(\"Create a bar chart in Power BI Desktop\", k=3)\n"
      ],
      "metadata": {
        "colab": {
          "base_uri": "https://localhost:8080/",
          "height": 628,
          "referenced_widgets": [
            "da7a8a7be46f4e9399d9da129b65f8af",
            "f0d556138e924c0daa8c2b91639b9530",
            "8fafe520a64f46668713ad0bafe58ec5",
            "113772685b334077852161fec4191248",
            "2236aa62a8eb458bba74d6629742abe7",
            "90398816688b4adeb91926833cc5e8c1",
            "623640e9044a4b5ebee4a2ef77110186",
            "424c2f76a6c8466db1c2bbf4b888e256",
            "7906bc123cc74020a30dbf75cbdba729",
            "78b0647106f24089bdaa2edb2c3b3bea",
            "40233b8f51514c1a923b1da46609a8d1",
            "d29fde4859694e47b9a83abd55615a7d",
            "8d52c510bd4741c299cbe722fa58bc67",
            "0903e650cfa0429fbd11f01186420850",
            "a93485e83c9c43ca8b714c923e7de68d",
            "4cb1014593454dd0974e3b97f658556c",
            "4f9d7fd508d94a0e947afc0bfe5d247e",
            "4887aa22d0e24c87b067dfb87f85b035",
            "7a410b06f934435fa25fb52c6bbda8b0",
            "146f8b4f70304c3380a07f365e974e22",
            "825b3f3c0a284a58851dc5cdb8e90db9",
            "80c4b91553a040f19944df073adbcc40"
          ]
        },
        "id": "6j3I5RvlPF54",
        "outputId": "66589f94-a7d7-42fb-d531-ca77ece87824"
      },
      "execution_count": null,
      "outputs": [
        {
          "output_type": "stream",
          "name": "stdout",
          "text": [
            "Using device: cuda\n"
          ]
        },
        {
          "output_type": "display_data",
          "data": {
            "text/plain": [
              "Fetching 1 files:   0%|          | 0/1 [00:00<?, ?it/s]"
            ],
            "application/vnd.jupyter.widget-view+json": {
              "version_major": 2,
              "version_minor": 0,
              "model_id": "da7a8a7be46f4e9399d9da129b65f8af"
            }
          },
          "metadata": {}
        },
        {
          "output_type": "display_data",
          "data": {
            "text/plain": [
              "Fetching 1 files:   0%|          | 0/1 [00:00<?, ?it/s]"
            ],
            "application/vnd.jupyter.widget-view+json": {
              "version_major": 2,
              "version_minor": 0,
              "model_id": "d29fde4859694e47b9a83abd55615a7d"
            }
          },
          "metadata": {}
        },
        {
          "output_type": "stream",
          "name": "stdout",
          "text": [
            "Llama-2-7B-Chat loaded\n",
            "\n",
            "Top 18 raw candidates for: 'Create a bar chart in Power BI Desktop'\n",
            "  1. https://docs.microsoft.com/en-us/power-bi/developer/visuals/create-bar-chart  (Distance: 0.902)\n",
            "  2. https://docs.microsoft.com/en-us/power-bi/developer/visuals/create-bar-chart  (Distance: 0.899)\n",
            "  3. https://docs.microsoft.com/en-us/power-bi/paginated-reports/report-design/visualizations/charts-report-builder  (Distance: 0.864)\n",
            "  4. https://docs.microsoft.com/en-us/power-bi/developer/visuals/create-bar-chart  (Distance: 0.848)\n",
            "  5. https://docs.microsoft.com/en-us/power-bi/visuals/power-bi-visualization-column-charts  (Distance: 0.839)\n",
            "\n",
            "Top Retrieved (post-filter): https://docs.microsoft.com/en-us/power-bi/developer/visuals/create-bar-chart  (Distance: 0.902)\n",
            "Snippet: --- title: Build a bar chart visual in Power BI  description: Learn how to build a sample Power BI visual with code using this step-by-step guide. This sample visual displays a bar chart. author: mberdugo ms.author: billmath ms.reviewer: tebercov  ms.service: powerbi ms.subservice: powerbi-custom-visuals ms.topic: tutorial ms.date: 05/13/2024 #customer intent: As a Power BI visual developer, I want to learn how to build a bar chart visual so I can display data in a simple, visual format. --- …\n",
            "\n",
            "Generating concise answer …\n"
          ]
        },
        {
          "output_type": "stream",
          "name": "stderr",
          "text": [
            "<ipython-input-14-62983c02a44b>:54: LangChainDeprecationWarning: The method `BaseLLM.__call__` was deprecated in langchain-core 0.1.7 and will be removed in 1.0. Use :meth:`~invoke` instead.\n",
            "  response = llm(prompt).strip()\n"
          ]
        },
        {
          "output_type": "stream",
          "name": "stdout",
          "text": [
            "\n",
            "--- Generated Answer ---\n",
            "\n",
            "To create a bar chart in Power BI Desktop, follow these steps:\n",
            "\n",
            "1. In the Modeling tool, click on \"Bar Chart\" and select it.\n",
            "2. In the Data Marker, drag and drop the column(s) you want to use for the x-axis.\n",
            "3. In the Values marker, drag and drop the column(s) you want to use for the y-axis.\n",
            "4. Use the \"Bar Chart\" pane to customize the chart's appearance, such as changing the colors, adding labels, etc.\n",
            "5. Preview the chart\n",
            "\n",
            "Link: https://docs.microsoft.com/en-us/power-bi/developer/visuals/create-bar-chart\n",
            "\n",
            "--- End of Answer ---\n",
            "\n"
          ]
        }
      ]
    },
    {
      "cell_type": "markdown",
      "source": [
        "# Evaluation"
      ],
      "metadata": {
        "id": "Ydaa1vEPKYdO"
      }
    },
    {
      "cell_type": "markdown",
      "source": [
        "Test Queries"
      ],
      "metadata": {
        "id": "a2im_LyxKc1K"
      }
    },
    {
      "cell_type": "markdown",
      "source": [
        "We prepare ten questions—seven queries plus three more challenging ones—for end-to-end evaluation."
      ],
      "metadata": {
        "id": "HFHk6KSyPM_N"
      }
    },
    {
      "cell_type": "code",
      "source": [
        "all_queries = [\n",
        "    \"Create a bar chart in Power BI Desktop\",\n",
        "    \"Create a column chart in Power BI Desktop\",\n",
        "    \"Add a slicer to a report in Power BI Desktop\",\n",
        "    \"Publish to Power BI service\",\n",
        "    \"Apply filters in Power BI Desktop\",\n",
        "    \"Rename a query in Power Query Editor\",\n",
        "    \"Write a DAX measure for year-to-date sales using the TOTALYTD function\",\n",
        "    \"In Power BI Desktop, how do I create a waterfall chart?\",\n",
        "    \"In Power BI Paginated Report Builder, how do I pass a parameter for drill-through?\",\n",
        "    \"How do I configure row-level security in Power BI Desktop?\"\n",
        "]\n"
      ],
      "metadata": {
        "id": "21m0v15FPQNN"
      },
      "execution_count": null,
      "outputs": []
    },
    {
      "cell_type": "markdown",
      "source": [
        "Evaluation Loop"
      ],
      "metadata": {
        "id": "Cd_jDYSnKeLj"
      }
    },
    {
      "cell_type": "code",
      "source": [
        "\n",
        "print(\"\\n===== Running evaluation on 10 queries =====\\n\")\n",
        "\n",
        "for idx, q in enumerate(all_queries, start=1):\n",
        "    print(f\"--- Query #{idx} ---\")\n",
        "    print(\"Question:\", q)\n",
        "\n",
        "    top_chunks = retrieve_unique(q, k=3, k_raw=20)\n",
        "    top = top_chunks[0]\n",
        "    print(f\"Top Retrieved URL : {top['url']}  (Distance: {top['distance']:.3f})\")\n",
        "    print(f\"Snippet            : {top['snippet'][:200]}…\\n\")\n",
        "\n",
        "    answer = generate_simple_answer(q, top)\n",
        "    print(\"--- Generated Answer ---\")\n",
        "    print(answer)\n",
        "    print(\"--- End of Answer ---\\n\")"
      ],
      "metadata": {
        "colab": {
          "base_uri": "https://localhost:8080/"
        },
        "id": "AVZbZhKbPUTM",
        "outputId": "6d5e0181-cf9c-4454-e83c-8d2072bc45cc"
      },
      "execution_count": null,
      "outputs": [
        {
          "output_type": "stream",
          "name": "stdout",
          "text": [
            "\n",
            "===== Running evaluation on 10 queries =====\n",
            "\n",
            "--- Query #1 ---\n",
            "Question: Create a bar chart in Power BI Desktop\n",
            "Top Retrieved URL : https://docs.microsoft.com/en-us/power-bi/developer/visuals/create-bar-chart  (Distance: 0.902)\n",
            "Snippet            : --- title: Build a bar chart visual in Power BI  description: Learn how to build a sample Power BI visual with code using this step-by-step guide. This sample visual displays a bar chart. author: mber…\n",
            "\n",
            "--- Generated Answer ---\n",
            "To create a bar chart in Power BI Desktop, follow these steps:\n",
            "\n",
            "1. In the Modeling tab, click on \"New Visual\" and select \"Bar Chart\".\n",
            "2. In the Bar Chart pane, drag the fields you want to use for the x-axis and y-axis into the respective columns.\n",
            "3. In the Data pane, click on \"Add Column\" and select the column you want to use for the bar chart.\n",
            "4. In the Visualization pane, click on \"Bar Chart\" and adjust the settings as needed.\n",
            "5. Preview the visualization\n",
            "\n",
            "Link: https://docs.microsoft.com/en-us/power-bi/developer/visuals/create-bar-chart\n",
            "--- End of Answer ---\n",
            "\n",
            "--- Query #2 ---\n",
            "Question: Create a column chart in Power BI Desktop\n",
            "Top Retrieved URL : https://docs.microsoft.com/en-us/power-bi/visuals/power-bi-visualization-column-charts  (Distance: 0.919)\n",
            "Snippet            : ## Create a column chart  # [Power BI Desktop](#tab/powerbi-desktop)  Before we begin, if you haven't already ……\n",
            "\n",
            "--- Generated Answer ---\n",
            "To create a column chart in Power BI Desktop, follow these steps:\n",
            "\n",
            "1. In the Modeling tab, click on \"New Column\" and select \"Column\" from the drop-down menu.\n",
            "2. In the Columns pane, drag and drop the column you want to use for the x-axis into the \"Data\" area.\n",
            "3. In the Columns pane, drag and drop the column you want to use for the y-axis into the \"Values\" area.\n",
            "4. In the Chart Options pane, select the chart type you want to use (e.g\n",
            "\n",
            "Link: https://docs.microsoft.com/en-us/power-bi/visuals/power-bi-visualization-column-charts\n",
            "--- End of Answer ---\n",
            "\n",
            "--- Query #3 ---\n",
            "Question: Add a slicer to a report in Power BI Desktop\n",
            "Top Retrieved URL : https://docs.microsoft.com/en-us/power-bi/report-server/whats-new  (Distance: 0.857)\n",
            "Snippet            : A slicer can apply to one, two, or more pages in a report.  #### [Quick measures](https://powerbi.microsoft.com/blog/power-bi-desktop-february-2018-feature-summary/#quickMeasures)   Create new measure…\n",
            "\n",
            "--- Generated Answer ---\n",
            "To add a slicer to a report in Power BI Desktop, follow these steps:\n",
            "\n",
            "1. In the report, right-click on the table and select \"Insert Slicer\" from the context menu.\n",
            "2. Select the column you want to use as the slicer.\n",
            "3. Name the slicer and choose how it should be displayed in the report (e.g., as a dropdown list or as a continuous value).\n",
            "4. Optionally, you can also add a label to the slicer to display additional information.\n",
            "5. Save and publish the report.\n",
            "\n",
            "Link: https://docs.microsoft.com/en-us/power-bi/report-server/whats-new\n",
            "--- End of Answer ---\n",
            "\n",
            "--- Query #4 ---\n",
            "Question: Publish to Power BI service\n",
            "Top Retrieved URL : https://docs.microsoft.com/en-us/power-bi/fundamentals/desktop-getting-started  (Distance: 0.859)\n",
            "Snippet            : To publish to the **Power BI** service from Power BI Desktop, from the **Home** tab of the ribbon, select **Pu ……\n",
            "\n",
            "--- Generated Answer ---\n",
            "The answer is yes.\n",
            "\n",
            "Link: https://docs.microsoft.com/en-us/power-bi/fundamentals/desktop-getting-started\n",
            "--- End of Answer ---\n",
            "\n",
            "--- Query #5 ---\n",
            "Question: Apply filters in Power BI Desktop\n",
            "Top Retrieved URL : https://docs.microsoft.com/en-us/power-bi/create-reports/power-bi-report-filter  (Distance: 0.866)\n",
            "Snippet            : :::image type=\"content\" source=\"media/power-bi-report-filter/apply-filter-button.png\" alt-text=\"Screenshot of the Filters pane, showing the applied filters.\":::  ### ……\n",
            "\n",
            "--- Generated Answer ---\n",
            "To apply filters in Power BI Desktop, follow these steps:\n",
            "\n",
            "1. Click on the filter icon in the column header of the table you want to filter.\n",
            "2. Select the filter you want to apply from the dropdown list.\n",
            "3. The data will be updated based on your selection.\n",
            "\n",
            "### Documentation URL: <https://docs.microsoft.com/power-bi/modeling-language/filter-column>\n",
            "\n",
            "Link: https://docs.microsoft.com/en-us/power-bi/create-reports/power-bi-report-filter\n",
            "--- End of Answer ---\n",
            "\n",
            "--- Query #6 ---\n",
            "Question: Rename a query in Power Query Editor\n",
            "Top Retrieved URL : https://docs.microsoft.com/en-us/power-bi/transform-model/desktop-query-overview  (Distance: 0.716)\n",
            "Snippet            : ## Saving your work  When your query is where you want it, select **Close & Apply** from Power Query Editor's **File** menu. This action applies the changes and closes the editor.   :::image type=\"con…\n",
            "\n",
            "--- Generated Answer ---\n",
            "To rename a query in Power Query Editor, you can use the **Name** button in the ribbon. Select the query you want to rename, then click the **Name** button and enter the new name.\n",
            "\n",
            "Link: https://docs.microsoft.com/en-us/power-bi/transform-model/desktop-query-overview\n",
            "--- End of Answer ---\n",
            "\n",
            "--- Query #7 ---\n",
            "Question: Write a DAX measure for year-to-date sales using the TOTALYTD function\n",
            "Top Retrieved URL : https://docs.microsoft.com/en-us/power-bi/transform-model/desktop-what-if  (Distance: 0.644)\n",
            "Snippet            : Enter the measure formula into the formula bar, and name the formula *Sales after Discount*.  ```dax Sales after Discount = SUM(Sales[SalesAmount]) - (SUM(Sales[SalesAmount]) * 'Discount percentage' […\n",
            "\n",
            "--- Generated Answer ---\n",
            "=TOTALYTD(Sales after Discount)\n",
            "\n",
            "### Documentation URL: <https://docs.microsoft.com/power-bi/modeling/transform-data>\n",
            "\n",
            "Link: https://docs.microsoft.com/en-us/power-bi/transform-model/desktop-what-if\n",
            "--- End of Answer ---\n",
            "\n",
            "--- Query #8 ---\n",
            "Question: In Power BI Desktop, how do I create a waterfall chart?\n",
            "Top Retrieved URL : https://docs.microsoft.com/en-us/power-bi/visuals/power-bi-visualization-waterfall-charts  (Distance: 0.850)\n",
            "Snippet            : # Waterfall charts in Power BI  [!INCLUDE [applies-yes-desktop-yes-service](../includes/applies-yes-desktop-yes-service.m ……\n",
            "\n",
            "--- Generated Answer ---\n",
            "To create a waterfall chart in Power BI Desktop, follow these steps:\n",
            "\n",
            "1. Select the measure you want to use for the base value.\n",
            "2. In the Modeling tool, click on the \"Waterfall\" option under the \"Data\" tab.\n",
            "3. Click on the \"Add Row\" button and select the measure you want to use as the base value.\n",
            "4. Repeat step 3 for each additional measure in the waterfall chart.\n",
            "5. Preview the waterfall chart by clicking on the \"Preview\" button.\n",
            "6. Customize the chart as needed\n",
            "\n",
            "Link: https://docs.microsoft.com/en-us/power-bi/visuals/power-bi-visualization-waterfall-charts\n",
            "--- End of Answer ---\n",
            "\n",
            "--- Query #9 ---\n",
            "Question: In Power BI Paginated Report Builder, how do I pass a parameter for drill-through?\n",
            "Top Retrieved URL : https://docs.microsoft.com/en-us/power-bi/paginated-reports/report-design/add-drillthrough-action-report-report-builder  (Distance: 0.865)\n",
            "Snippet            : - In **Value**, type the value to pass to the parameter in the drillthrough report.              > [!NOT ……\n",
            "\n",
            "--- Generated Answer ---\n",
            "To pass a parameter for drill-through in Power BI Paginated Report Builder, you can use the `Parameter` option in the `Drill Through` section of your report. For example:\n",
            "```\n",
            "= Table[Parameter = \"City\", Drill Through = \"Product\"]\n",
            "```\n",
            "This will create a parameter called `City` that can be used to drill through the data in the `Product` table.\n",
            "\n",
            "### Documentation URL: <https://docs.microsoft.com/power-bi/modeling/parameter-tier>\n",
            "\n",
            "Please let me know if you need\n",
            "\n",
            "Link: https://docs.microsoft.com/en-us/power-bi/paginated-reports/report-design/add-drillthrough-action-report-report-builder\n",
            "--- End of Answer ---\n",
            "\n",
            "--- Query #10 ---\n",
            "Question: How do I configure row-level security in Power BI Desktop?\n",
            "Top Retrieved URL : https://docs.microsoft.com/en-us/power-bi/fundamentals/desktop-latest-update-archive  (Distance: 0.839)\n",
            "Snippet            : ### Modeling * General availability of enhanced row-level security editor in Power BI Desktop   [[blog]](https://powerbi.microsoft.com/blog/power-bi-july-2024-feature-summary/#post-27650-_Toc174060325…\n",
            "\n",
            "--- Generated Answer ---\n",
            "To configure row-level security in Power BI Desktop, follow these steps:\n",
            "\n",
            "1. In the Modeling pane, right-click on the table you want to enable row-level security for and select \"Edit Columns\".\n",
            "2. In the Columns pane, locate the column you want to secure and click the ellipsis button next to it.\n",
            "3. Select \"Row-Level Security\" from the dropdown menu.\n",
            "4. Assign the appropriate user or group to the column by clicking on the \"Assign\" button.\n",
            "5. Repeat steps 3-4 for each\n",
            "\n",
            "Link: https://docs.microsoft.com/en-us/power-bi/fundamentals/desktop-latest-update-archive\n",
            "--- End of Answer ---\n",
            "\n"
          ]
        }
      ]
    },
    {
      "cell_type": "markdown",
      "source": [
        "Test the Same Question with Multiple Paraphrases\n",
        "\n",
        "We take “Create a bar chart in Power BI Desktop” and phrase it five different ways to test retrieval robustness and answer consistency."
      ],
      "metadata": {
        "id": "LOc6ORhWPXHq"
      }
    },
    {
      "cell_type": "code",
      "source": [
        "paraphrased_questions = [\n",
        "    \"Create a bar chart in Power BI Desktop\",\n",
        "    \"How can I build a bar chart using Power BI Desktop?\",\n",
        "    \"What steps are required to make a bar chart in Power BI Desktop?\",\n",
        "    \"Guide me through creating a bar chart in Power BI Desktop\",\n",
        "    \"In Power BI Desktop, how would I go about making a bar chart?\"\n",
        "]\n",
        "\n",
        "print(\"\\n===== Testing One Question in 5 Different Phrasings =====\\n\")\n",
        "\n",
        "for idx, q in enumerate(paraphrased_questions, start=1):\n",
        "    print(f\"--- Paraphrase #{idx} ---\")\n",
        "    print(\"Question:\", q)\n",
        "\n",
        "    top_chunks = retrieve_unique(q, k=3, k_raw=10)\n",
        "    top = top_chunks[0]\n",
        "    print(f\"Top Retrieved URL : {top['url']}  (Distance: {top['distance']:.3f})\")\n",
        "    print(f\"Snippet            : {top['snippet'][:200]}…\\n\")\n",
        "\n",
        "    answer = generate_simple_answer(q, top)\n",
        "    print(\"--- Generated Answer ---\")\n",
        "    print(answer)\n",
        "    print(\"--- End of Answer ---\\n\")\n"
      ],
      "metadata": {
        "colab": {
          "base_uri": "https://localhost:8080/"
        },
        "id": "70kBMuFGPZK5",
        "outputId": "d85e3a6c-230d-4473-a7d5-924af2049738"
      },
      "execution_count": null,
      "outputs": [
        {
          "output_type": "stream",
          "name": "stdout",
          "text": [
            "\n",
            "===== Testing One Question in 5 Different Phrasings =====\n",
            "\n",
            "--- Paraphrase #1 ---\n",
            "Question: Create a bar chart in Power BI Desktop\n",
            "Top Retrieved URL : https://docs.microsoft.com/en-us/power-bi/developer/visuals/create-bar-chart  (Distance: 0.902)\n",
            "Snippet            : --- title: Build a bar chart visual in Power BI  description: Learn how to build a sample Power BI visual with code using this step-by-step guide. This sample visual displays a bar chart. author: mber…\n",
            "\n",
            "--- Generated Answer ---\n",
            "To create a bar chart in Power BI Desktop, follow these steps:\n",
            "\n",
            "1. In the Modeling tab, click on \"New Visual\" and select \"Bar Chart\".\n",
            "2. In the Bar Chart pane, drag the fields you want to use for the x-axis and y-axis into the respective columns.\n",
            "3. In the Data pane, select the table or dataset you want to visualize.\n",
            "4. Click on the \"Model\" button in the Bar Chart pane and select \"Bar Chart\".\n",
            "5. In the Bar Chart dialog box, adjust the settings as needed, such\n",
            "\n",
            "Link: https://docs.microsoft.com/en-us/power-bi/developer/visuals/create-bar-chart\n",
            "--- End of Answer ---\n",
            "\n",
            "--- Paraphrase #2 ---\n",
            "Question: How can I build a bar chart using Power BI Desktop?\n",
            "Top Retrieved URL : https://docs.microsoft.com/en-us/power-bi/developer/visuals/create-bar-chart  (Distance: 0.909)\n",
            "Snippet            : # Tutorial: Build a bar chart  This tutorial shows you how to develop a Power BI visual that displays data in the form of a simple bar chart. This vi ……\n",
            "\n",
            "--- Generated Answer ---\n",
            "To create a bar chart in Power BI Desktop, follow these steps:\n",
            "\n",
            "1. Select the table you want to use for your visualization.\n",
            "2. On the Modeling tab, click on the \"Bar Chart\" button.\n",
            "3. In the Bar Chart pane, drag and drop the fields you want to use as the x-axis and y-axis.\n",
            "4. Customize the chart by adding a title, changing colors, or modifying the layout.\n",
            "5. Preview your visualization in the Visualizations tab.\n",
            "6. Publish your visualization to share it with others.\n",
            "\n",
            "Link: https://docs.microsoft.com/en-us/power-bi/developer/visuals/create-bar-chart\n",
            "--- End of Answer ---\n",
            "\n",
            "--- Paraphrase #3 ---\n",
            "Question: What steps are required to make a bar chart in Power BI Desktop?\n",
            "Top Retrieved URL : https://docs.microsoft.com/en-us/power-bi/developer/visuals/create-bar-chart  (Distance: 0.870)\n",
            "Snippet            : # Tutorial: Build a bar chart  This tutorial shows you how to develop a Power BI visual that displays data in the form of a simple bar chart. This visual supports a minimal amount of customization. Ot…\n",
            "\n",
            "--- Generated Answer ---\n",
            "To create a bar chart in Power BI Desktop, follow these steps:\n",
            "\n",
            "1. Open the \"Modeling\" tab and click on the \"Bar Chart\" button.\n",
            "2. In the \"Bar Chart\" pane, drag the fields you want to display onto the \"Value Fields\" area.\n",
            "3. Customize the chart by clicking on the \"Label\" field in the \"Labels\" group and entering text.\n",
            "4. Click on the \"Legend\" button in the \"Legends\" group to add a legend to the chart.\n",
            "5. Preview the chart by clicking on the\n",
            "\n",
            "Link: https://docs.microsoft.com/en-us/power-bi/developer/visuals/create-bar-chart\n",
            "--- End of Answer ---\n",
            "\n",
            "--- Paraphrase #4 ---\n",
            "Question: Guide me through creating a bar chart in Power BI Desktop\n",
            "Top Retrieved URL : https://docs.microsoft.com/en-us/power-bi/developer/visuals/create-bar-chart  (Distance: 0.909)\n",
            "Snippet            : # Tutorial: Build a bar chart  This tutorial shows you how to develop a Power BI visual that displays data in the form of a simple bar chart. This visual supports a minimal amount of customization. Ot…\n",
            "\n",
            "--- Generated Answer ---\n",
            "Of course! To create a bar chart in Power BI Desktop, follow these steps:\n",
            "\n",
            "1. Open the Power BI Desktop application and select \"Create a new report\".\n",
            "2. In the \"Create\" pane on the left-hand side, click on \"Bar Chart\".\n",
            "3. In the \"Bar Chart\" pane, drag and drop the fields you want to display in your chart onto the \"Value Fields\" area.\n",
            "4. Customize the appearance of your chart by clicking on any of the options in the \"Visual\" pane.\n",
            "5. Preview your chart by\n",
            "\n",
            "Link: https://docs.microsoft.com/en-us/power-bi/developer/visuals/create-bar-chart\n",
            "--- End of Answer ---\n",
            "\n",
            "--- Paraphrase #5 ---\n",
            "Question: In Power BI Desktop, how would I go about making a bar chart?\n",
            "Top Retrieved URL : https://docs.microsoft.com/en-us/power-bi/developer/visuals/create-bar-chart  (Distance: 0.895)\n",
            "Snippet            : ial: Build a bar chart  This tutorial shows you how to develop a Power BI visual that displays data in the form of a simple bar chart. This visual supports a minimal amount of customization. Other pag…\n",
            "\n",
            "--- Generated Answer ---\n",
            "To create a bar chart in Power BI Desktop, follow these steps:\n",
            "\n",
            "1. Select the data you want to use for your chart.\n",
            "2. Click on the \"Modeling\" tab and select \"Bar Chart\".\n",
            "3. In the \"Bar Chart\" pane, adjust the settings as needed (e.g., change the labels, colors, etc.).\n",
            "4. Preview your chart by clicking on the \"Preview\" button at the top of the page.\n",
            "5. Once you're satisfied with your chart, click \"Publish\" to save it and share it with others.\n",
            "\n",
            "Link: https://docs.microsoft.com/en-us/power-bi/developer/visuals/create-bar-chart\n",
            "--- End of Answer ---\n",
            "\n"
          ]
        }
      ]
    }
  ]
}